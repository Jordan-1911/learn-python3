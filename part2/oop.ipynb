{
 "cells": [
  {
   "attachments": {},
   "cell_type": "markdown",
   "metadata": {},
   "source": [
    "OBJECT ORIENTED PROGRAMMING\n",
    "- Most of what we have written so far is designed around functions - blocks of statements that manipulate data - this is called procedure-oriented programming\n",
    "- another common way is to organize programs which combine data and functionality and wrap it in something called an object - i.e. Object Oriented Programming\n",
    "\n",
    "- Classes and objects are the two main aspects\n",
    "- A class creates a new type (blueprint for creating class)\n",
    "- Objects are instances of the class\n",
    "\n",
    "PILLARS OF OOP\n",
    "- Abstraction\n",
    "- Encapsulation\n",
    "- Inheritance\n",
    "- Polymorphism\n",
    "\n",
    "ABSTRACTION\n",
    "- hide away the implementation details (we don't have to know what it is doing)\n",
    "\n",
    "ENCAPSULATION\n",
    "- Removing access to parts of code and making things private\n",
    "- i.e. fully encapsulated class (private, getters and setters, etc)\n",
    "\n",
    "INHERITANCE\n",
    "- Allows one object to acquire the properties and methods of another object\n",
    "- why? - reusability\n",
    "- Cohesion - parent and child are similar -- does the Bird type extend from the DieselEngine type?\n",
    "\n",
    "POLYMORPHISM\n",
    "- definition - \"the condition of occurring in several different forms.\"\n",
    "\n",
    "MORE ON CLASSES\n",
    "- objects store variables that belong to the object - fields\n",
    "- functions that belong to the class are called methods\n",
    "- collectively, fields and functions are called attributes\n",
    "\n",
    "SELF KEYWORD\n",
    "- class methods must have an \"extra first name\" that refer to itself AKA self\n",
    "- if a value for this param is not specified, Python will provide it\n",
    "- any name can be given to this, but it is widely frowned upon\n",
    "- similar to (this.) in Java, C++"
   ]
  },
  {
   "cell_type": "code",
   "execution_count": 1,
   "metadata": {},
   "outputs": [
    {
     "name": "stdout",
     "output_type": "stream",
     "text": [
      "<__main__.Person object at 0x000001F60D0A6F40>\n"
     ]
    }
   ],
   "source": [
    "class Person:\n",
    "    pass  # empty code block\n",
    "\n",
    "p = Person()  # create an instance of the class\n",
    "print(p)\n"
   ]
  },
  {
   "attachments": {},
   "cell_type": "markdown",
   "metadata": {},
   "source": [
    "This is telling us that we have an instance of the Person class in the __main__ module\n",
    " - The address in memory where the object is stored is also printed"
   ]
  },
  {
   "attachments": {},
   "cell_type": "markdown",
   "metadata": {},
   "source": [
    "METHODS"
   ]
  },
  {
   "cell_type": "code",
   "execution_count": 2,
   "metadata": {},
   "outputs": [
    {
     "name": "stdout",
     "output_type": "stream",
     "text": [
      "Hello, how are you?\n"
     ]
    }
   ],
   "source": [
    "class Person:\n",
    "    def say_hi(self):\n",
    "        print('Hello, how are you?')\n",
    "\n",
    "\n",
    "p = Person()\n",
    "p.say_hi()  # call the method of the object"
   ]
  },
  {
   "attachments": {},
   "cell_type": "markdown",
   "metadata": {},
   "source": [
    "THE __init__ METHOD\n",
    "- this method runs as soon as an object of a class is instantiated\n",
    "- useful to do any initialization (pass values to object)"
   ]
  },
  {
   "cell_type": "code",
   "execution_count": 3,
   "metadata": {},
   "outputs": [
    {
     "name": "stdout",
     "output_type": "stream",
     "text": [
      "Hello, my name is Jdawggydog\n"
     ]
    }
   ],
   "source": [
    "class Person:\n",
    "    def __init__(self, name):\n",
    "        self.name = name\n",
    "\n",
    "    def say_hi(self):\n",
    "        print('Hello, my name is', self.name)\n",
    "        \n",
    "\n",
    "p = Person('Jdawggydog')\n",
    "p.say_hi()"
   ]
  },
  {
   "attachments": {},
   "cell_type": "markdown",
   "metadata": {},
   "source": [
    "How did the code above work?\n",
    "- __init__ takes a parameter - name (along with self)\n",
    "- self.name is saying that there is something called \"name\" that belongs to this object\n",
    "- name refers to the local variable"
   ]
  },
  {
   "attachments": {},
   "cell_type": "markdown",
   "metadata": {},
   "source": [
    "CLASSES AND OBJECT VARIABLES\n",
    "- Fields are nothing more than variables bound to the namespaces of classes and objects\n",
    "- two types of fields: 1) Class variables; and 2) object variables\n",
    "- Class variables - shared, can be accessed by all instances of that class. There is only one copy of the class variable and when any object makes a change to the class variable, tht change will be reflected in all the other instances\n",
    "- Object variables - owned by each individual object/instance of the class, not shared and are not related in any way to the field by the same name in a different instance"
   ]
  },
  {
   "cell_type": "code",
   "execution_count": 4,
   "metadata": {},
   "outputs": [
    {
     "name": "stdout",
     "output_type": "stream",
     "text": [
      "(Initializing R2-D2)\n",
      "Hello earthlings, my name is R2-D2\n",
      "We have 1 robots.\n",
      "(Initializing OpenAI)\n",
      "Hello earthlings, my name is OpenAI\n",
      "We have 2 robots.\n",
      "R2-D2 is being destroyed!\n",
      "There are still 1 robots working.\n",
      "OpenAI is being destroyed!\n",
      "OpenAI was the last one.\n",
      "We have 0 robots.\n"
     ]
    }
   ],
   "source": [
    "class Robot:\n",
    "    \"\"\"This represents a robot\"\"\"\n",
    "    \n",
    "    # class variable\n",
    "    population = 0\n",
    "    \n",
    "    \n",
    "    def __init__(self, name):\n",
    "        \"\"\"Initializes the data\"\"\"\n",
    "        self.name = name  # object variable\n",
    "        print('(Initializing {})'.format(self.name))\n",
    "        \n",
    "        # When this person is created, the robot\n",
    "        # adds to the population below\n",
    "        Robot.population += 1\n",
    "        \n",
    "        \n",
    "    def die(self):\n",
    "        \"\"\"\"The robots are now being exterminated\"\"\"\n",
    "        print('{} is being destroyed!'.format(self.name))\n",
    "        \n",
    "        Robot.population -= 1\n",
    "        \n",
    "        if Robot.population == 0:\n",
    "            print('{} was the last one.'.format(self.name))\n",
    "        else:\n",
    "            print('There are still {:d} robots working.'.format(Robot.population))\n",
    "            \n",
    "    def say_hi(self):\n",
    "        \"\"\"Greetings\"\"\"\n",
    "        print(\"Hello earthlings, my name is {}\".format(self.name))\n",
    "        \n",
    "    \n",
    "    @classmethod\n",
    "    def how_many(cls):\n",
    "        \"\"\"Prints the current population\"\"\"\n",
    "        print('We have {:d} robots.'.format(cls.population))\n",
    "        \n",
    "        \n",
    "droid1 = Robot('R2-D2')\n",
    "droid1.say_hi()\n",
    "Robot.how_many()\n",
    "\n",
    "droid2 = Robot('OpenAI')\n",
    "droid2.say_hi()\n",
    "Robot.how_many()\n",
    "\n",
    "droid1.die()\n",
    "droid2.die()\n",
    "\n",
    "Robot.how_many()"
   ]
  },
  {
   "attachments": {},
   "cell_type": "markdown",
   "metadata": {},
   "source": [
    "How does the code above work? \n",
    " - population belongs to the Robot class and is a clas variable\n",
    " - the name variable belongs to the object (it is assigned using self)\n",
    " - we refer to the population as Robot.population and name as self.name\n",
    " - the how_many method is a method that belongs to the class and not the object\n",
    " - we can use decorators to be shortcutes to calling a wrapper function (i.e. a function that wraps around another function so that it can do something before or after the inner function)\n",
    " - all class members are public with one exception - data members with names using the double underscore prefix __privatevar, Python uses name-mangling to make it a private variable\n",
    " "
   ]
  },
  {
   "attachments": {},
   "cell_type": "markdown",
   "metadata": {},
   "source": [
    "INHERITANCE\n",
    "- type and subtype relationship"
   ]
  },
  {
   "cell_type": "code",
   "execution_count": 1,
   "metadata": {},
   "outputs": [
    {
     "name": "stdout",
     "output_type": "stream",
     "text": [
      "(Initialized SchoolMember: Mr. Jdawggydog)\n",
      "(Initialized Teacher: Mr. Jdawggydog)\n",
      "(Initialized SchoolMember: Little Jordan)\n",
      "(Initialized Student: Little Jordan)\n",
      "Name: \"Mr. Jdawggydog\" Age: \"35\" Salary: \"30000\"\n",
      "Name: \"Little Jordan\" Age: \"18\" "
     ]
    },
    {
     "ename": "AttributeError",
     "evalue": "'Student' object has no attribute 'marks'",
     "output_type": "error",
     "traceback": [
      "\u001b[1;31m---------------------------------------------------------------------------\u001b[0m",
      "\u001b[1;31mAttributeError\u001b[0m                            Traceback (most recent call last)",
      "\u001b[1;32m~\\AppData\\Local\\Temp\\ipykernel_10040\\13091213.py\u001b[0m in \u001b[0;36m<module>\u001b[1;34m\u001b[0m\n\u001b[0;32m     40\u001b[0m \u001b[0mmembers\u001b[0m \u001b[1;33m=\u001b[0m \u001b[1;33m[\u001b[0m\u001b[0mteacher_1\u001b[0m\u001b[1;33m,\u001b[0m \u001b[0mstudent_1\u001b[0m\u001b[1;33m]\u001b[0m\u001b[1;33m\u001b[0m\u001b[1;33m\u001b[0m\u001b[0m\n\u001b[0;32m     41\u001b[0m \u001b[1;32mfor\u001b[0m \u001b[0mmember\u001b[0m \u001b[1;32min\u001b[0m \u001b[0mmembers\u001b[0m\u001b[1;33m:\u001b[0m\u001b[1;33m\u001b[0m\u001b[1;33m\u001b[0m\u001b[0m\n\u001b[1;32m---> 42\u001b[1;33m     \u001b[0mmember\u001b[0m\u001b[1;33m.\u001b[0m\u001b[0mtell\u001b[0m\u001b[1;33m(\u001b[0m\u001b[1;33m)\u001b[0m\u001b[1;33m\u001b[0m\u001b[1;33m\u001b[0m\u001b[0m\n\u001b[0m",
      "\u001b[1;32m~\\AppData\\Local\\Temp\\ipykernel_10040\\13091213.py\u001b[0m in \u001b[0;36mtell\u001b[1;34m(self)\u001b[0m\n\u001b[0;32m     32\u001b[0m     \u001b[1;32mdef\u001b[0m \u001b[0mtell\u001b[0m\u001b[1;33m(\u001b[0m\u001b[0mself\u001b[0m\u001b[1;33m)\u001b[0m\u001b[1;33m:\u001b[0m\u001b[1;33m\u001b[0m\u001b[1;33m\u001b[0m\u001b[0m\n\u001b[0;32m     33\u001b[0m         \u001b[0mSchoolMember\u001b[0m\u001b[1;33m.\u001b[0m\u001b[0mtell\u001b[0m\u001b[1;33m(\u001b[0m\u001b[0mself\u001b[0m\u001b[1;33m)\u001b[0m\u001b[1;33m\u001b[0m\u001b[1;33m\u001b[0m\u001b[0m\n\u001b[1;32m---> 34\u001b[1;33m         \u001b[0mprint\u001b[0m\u001b[1;33m(\u001b[0m\u001b[1;34m'Marks: \"{:d}\"'\u001b[0m\u001b[1;33m.\u001b[0m\u001b[0mformat\u001b[0m\u001b[1;33m(\u001b[0m\u001b[0mself\u001b[0m\u001b[1;33m.\u001b[0m\u001b[0mmarks\u001b[0m\u001b[1;33m)\u001b[0m\u001b[1;33m)\u001b[0m\u001b[1;33m\u001b[0m\u001b[1;33m\u001b[0m\u001b[0m\n\u001b[0m\u001b[0;32m     35\u001b[0m \u001b[1;33m\u001b[0m\u001b[0m\n\u001b[0;32m     36\u001b[0m \u001b[1;33m\u001b[0m\u001b[0m\n",
      "\u001b[1;31mAttributeError\u001b[0m: 'Student' object has no attribute 'marks'"
     ]
    }
   ],
   "source": [
    "class SchoolMember:\n",
    "    '''Represents any school member.'''\n",
    "    def __init__(self, name, age):\n",
    "        self.name = name\n",
    "        self.age = age\n",
    "        print('(Initialized SchoolMember: {})'.format(self.name))\n",
    "            \n",
    "    def tell(self):\n",
    "        '''Tell my details.'''\n",
    "        print('Name: \"{}\" Age: \"{}\"'.format(self.name, self.age), end=\" \")\n",
    "        \n",
    "        \n",
    "class Teacher(SchoolMember):\n",
    "    '''Represents a teacher.'''\n",
    "    def __init__(self, name, age, salary):\n",
    "        SchoolMember.__init__(self, name, age)\n",
    "        self.salary = salary\n",
    "        print('(Initialized Teacher: {})'.format(self.name))\n",
    "        \n",
    "    def tell(self):\n",
    "        SchoolMember.tell(self)\n",
    "        print('Salary: \"{:d}\"'.format(self.salary))\n",
    "        \n",
    "\n",
    "class Student(SchoolMember):\n",
    "    '''Represents a student'''\n",
    "    def __init__(self, name, age, grades):\n",
    "        SchoolMember.__init__(self, name, age)\n",
    "        self.grades = grades\n",
    "        print('(Initialized Student: {})'.format(self.name))\n",
    "        \n",
    "    def tell(self):\n",
    "        SchoolMember.tell(self)\n",
    "        print('Marks: \"{:d}\"'.format(self.marks))\n",
    "        \n",
    "\n",
    "teacher_1 = Teacher('Mr. Jdawggydog', 35, 30000)\n",
    "student_1 = Student('Little Jordan', 18, 75)\n",
    "\n",
    "members = [teacher_1, student_1]\n",
    "for member in members:\n",
    "    member.tell()"
   ]
  }
 ],
 "metadata": {
  "kernelspec": {
   "display_name": "base",
   "language": "python",
   "name": "python3"
  },
  "language_info": {
   "codemirror_mode": {
    "name": "ipython",
    "version": 3
   },
   "file_extension": ".py",
   "mimetype": "text/x-python",
   "name": "python",
   "nbconvert_exporter": "python",
   "pygments_lexer": "ipython3",
   "version": "3.9.13"
  },
  "orig_nbformat": 4,
  "vscode": {
   "interpreter": {
    "hash": "a68f03d5b51d71e9618ac169d65e588645e27f9fde4b6854514898c829210307"
   }
  }
 },
 "nbformat": 4,
 "nbformat_minor": 2
}
