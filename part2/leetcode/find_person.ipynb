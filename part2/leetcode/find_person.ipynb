{
 "cells": [
  {
   "attachments": {},
   "cell_type": "markdown",
   "metadata": {},
   "source": [
    "FIND THE TOWN JUDGE\n",
    "In a town, there are n people labeled from 1 to n. There is a rumor that one of these people is secretly the town judge.\n",
    "\n",
    "If the town judge exists, then:\n",
    "- The town judge trusts nobody.\n",
    "- Everybody (except for the town judge) trusts the town judge.\n",
    "- There is exactly one person that satisfies properties 1 and 2.\n",
    "\n",
    "You are given an array trust where trust[i] = [ai, bi] representing that the person labeled ai trusts the person labeled bi.\n",
    "\n",
    "Return the label of the town judge if the town judge exists and can be identified, or return -1 otherwise."
   ]
  },
  {
   "cell_type": "code",
   "execution_count": 1,
   "metadata": {},
   "outputs": [
    {
     "ename": "TypeError",
     "evalue": "'list' object cannot be interpreted as an integer",
     "output_type": "error",
     "traceback": [
      "\u001b[0;31m---------------------------------------------------------------------------\u001b[0m",
      "\u001b[0;31mTypeError\u001b[0m                                 Traceback (most recent call last)",
      "Cell \u001b[0;32mIn[1], line 22\u001b[0m\n\u001b[1;32m     20\u001b[0m n \u001b[39m=\u001b[39m \u001b[39m3\u001b[39m\n\u001b[1;32m     21\u001b[0m trust \u001b[39m=\u001b[39m [[\u001b[39m1\u001b[39m, \u001b[39m3\u001b[39m], [\u001b[39m2\u001b[39m, \u001b[39m3\u001b[39m]]\n\u001b[0;32m---> 22\u001b[0m \u001b[39mprint\u001b[39m(find_judge(n, trust)) \n",
      "Cell \u001b[0;32mIn[1], line 7\u001b[0m, in \u001b[0;36mfind_judge\u001b[0;34m(n, trust)\u001b[0m\n\u001b[1;32m      3\u001b[0m     \u001b[39mreturn\u001b[39;00m \u001b[39m1\u001b[39m\n\u001b[1;32m      5\u001b[0m new_arr \u001b[39m=\u001b[39m [\u001b[39m0\u001b[39m] \u001b[39m*\u001b[39m (n \u001b[39m-\u001b[39m \u001b[39m1\u001b[39m)\n\u001b[0;32m----> 7\u001b[0m \u001b[39mfor\u001b[39;00m i \u001b[39min\u001b[39;00m \u001b[39mrange\u001b[39;49m(trust):\n\u001b[1;32m      8\u001b[0m     new_arr[trust[i][\u001b[39m0\u001b[39m]] \u001b[39m-\u001b[39m\u001b[39m=\u001b[39m \u001b[39m1\u001b[39m\n\u001b[1;32m      9\u001b[0m     new_arr[trust[i][\u001b[39m1\u001b[39m]] \u001b[39m+\u001b[39m\u001b[39m=\u001b[39m \u001b[39m1\u001b[39m\n",
      "\u001b[0;31mTypeError\u001b[0m: 'list' object cannot be interpreted as an integer"
     ]
    }
   ],
   "source": [
    "def find_judge(n, trust):\n",
    "    if n == 1:\n",
    "        return 1\n",
    "\n",
    "    new_arr = [0] * (n - 1)\n",
    "\n",
    "    for i in range(trust):\n",
    "        new_arr[trust[i][0]] -= 1\n",
    "        new_arr[trust[i][1]] += 1\n",
    "    \n",
    "    print(new_arr)\n",
    "\n",
    "    for i in range(len(new_arr)):\n",
    "        if new_arr[i] == n - 1:\n",
    "            return 1\n",
    "    \n",
    "    return -1\n",
    "\n",
    "    \n",
    "n = 3\n",
    "trust = [[1, 3], [2, 3]]\n",
    "print(find_judge(n, trust)) "
   ]
  },
  {
   "attachments": {},
   "cell_type": "markdown",
   "metadata": {},
   "source": [
    "First, we need to find who trusts who. If A trusts B, D trusts B, and C trusts B so C is the judge. "
   ]
  }
 ],
 "metadata": {
  "kernelspec": {
   "display_name": "tensorflow",
   "language": "python",
   "name": "python3"
  },
  "language_info": {
   "codemirror_mode": {
    "name": "ipython",
    "version": 3
   },
   "file_extension": ".py",
   "mimetype": "text/x-python",
   "name": "python",
   "nbconvert_exporter": "python",
   "pygments_lexer": "ipython3",
   "version": "3.10.8"
  },
  "orig_nbformat": 4,
  "vscode": {
   "interpreter": {
    "hash": "293803cbaa357c9860d68c02f93ff4620a4e56c52c7c4c94fc6d47d407649920"
   }
  }
 },
 "nbformat": 4,
 "nbformat_minor": 2
}
