{
 "cells": [
  {
   "attachments": {},
   "cell_type": "markdown",
   "metadata": {},
   "source": [
    "ERROROS\n",
    "- Errors\n",
    "- Exceptions"
   ]
  },
  {
   "cell_type": "code",
   "execution_count": 1,
   "metadata": {},
   "outputs": [
    {
     "ename": "NameError",
     "evalue": "name 'Print' is not defined",
     "output_type": "error",
     "traceback": [
      "\u001b[0;31m---------------------------------------------------------------------------\u001b[0m",
      "\u001b[0;31mNameError\u001b[0m                                 Traceback (most recent call last)",
      "Cell \u001b[0;32mIn[1], line 1\u001b[0m\n\u001b[0;32m----> 1\u001b[0m Print(\u001b[39m\"\u001b[39m\u001b[39mHello World\u001b[39m\u001b[39m\"\u001b[39m)\n",
      "\u001b[0;31mNameError\u001b[0m: name 'Print' is not defined"
     ]
    }
   ],
   "source": [
    "Print(\"Hello World\")"
   ]
  },
  {
   "attachments": {},
   "cell_type": "markdown",
   "metadata": {},
   "source": [
    "NameError is raised and the location where the error occured is also printed\n",
    " - this is what an error handler does\n",
    "\n",
    " EXCEPTIONS\n",
    " - how to handle them"
   ]
  },
  {
   "cell_type": "code",
   "execution_count": 3,
   "metadata": {},
   "outputs": [
    {
     "name": "stdout",
     "output_type": "stream",
     "text": [
      "You entered \n"
     ]
    }
   ],
   "source": [
    "try:\n",
    "    text = input('Enter something --> ')\n",
    "except EOFError:\n",
    "    print('Why did you do an EOF on me?')\n",
    "except KeyboardInterrupt:\n",
    "    print('You cancelled the operation.')\n",
    "else:\n",
    "    print('You entered {}'.format(text))\n",
    "\n",
    "# ctrl c to cancel\n"
   ]
  },
  {
   "attachments": {},
   "cell_type": "markdown",
   "metadata": {},
   "source": [
    "RAISING EXCEPTIONS\n",
    "- raise statement and provide name of the error/exception being thrown\n",
    "- extends from Exception class"
   ]
  },
  {
   "cell_type": "code",
   "execution_count": 5,
   "metadata": {},
   "outputs": [
    {
     "name": "stdout",
     "output_type": "stream",
     "text": [
      "No exception was raised.\n"
     ]
    }
   ],
   "source": [
    "class ShortInputException(Exception):\n",
    "    '''A user-defined exception class.'''\n",
    "    def __init__(self, length, atleast):\n",
    "        Exception.__init__(self)\n",
    "        self.length = length\n",
    "        self.atleast = atleast\n",
    "\n",
    "try:\n",
    "    text = input('Enter something --> ')\n",
    "    if len(text) < 3:\n",
    "        raise ShortInputException(len(text), 3)\n",
    "    # Other work can continue as usual here\n",
    "except EOFError:\n",
    "    print('Why did you do an EOF on me?')\n",
    "except ShortInputException as ex:\n",
    "    print(('ShortInputException: The input was ' +\n",
    "           '{0} long, expected at least {1}')\n",
    "          .format(ex.length, ex.atleast))\n",
    "else:\n",
    "    print('No exception was raised.')\n",
    "\n",
    "# input of only 1 character will print the exception:\n",
    "# ShortInputException: The input was 1 long, expected at least 3\n",
    "# inputting 3 characters will print the else statement:\n",
    "# No exception was raised."
   ]
  },
  {
   "attachments": {},
   "cell_type": "markdown",
   "metadata": {},
   "source": [
    "TRY/FINALLY\n"
   ]
  },
  {
   "cell_type": "code",
   "execution_count": 6,
   "metadata": {},
   "outputs": [
    {
     "name": "stdout",
     "output_type": "stream",
     "text": [
      "Programming is fun\n",
      "Press ctrl+c now\n",
      "When the work is done,\n",
      "Press ctrl+c now\n",
      "if you wanna make your work also fun:\n",
      "Press ctrl+c now\n",
      "    use Python!Press ctrl+c now\n",
      "(Cleaning up: Closed the file)\n"
     ]
    }
   ],
   "source": [
    "import sys\n",
    "import time\n",
    "\n",
    "f = None\n",
    "try:\n",
    "    f = open(\"poem.txt\")\n",
    "    # Our usual file-reading idiom\n",
    "    while True:\n",
    "        line = f.readline()\n",
    "        if len(line) == 0:\n",
    "            break\n",
    "        print(line, end='')\n",
    "        sys.stdout.flush()\n",
    "        print(\"Press ctrl+c now\")\n",
    "        # To make sure it runs for a while\n",
    "        time.sleep(2)\n",
    "except IOError:\n",
    "    print(\"Could not find file poem.txt\")\n",
    "except KeyboardInterrupt:\n",
    "    print(\"!! You cancelled the reading from the file.\")\n",
    "finally:\n",
    "    if f:\n",
    "        f.close()\n",
    "    print(\"(Cleaning up: Closed the file)\")"
   ]
  }
 ],
 "metadata": {
  "kernelspec": {
   "display_name": "tensorflow",
   "language": "python",
   "name": "python3"
  },
  "language_info": {
   "codemirror_mode": {
    "name": "ipython",
    "version": 3
   },
   "file_extension": ".py",
   "mimetype": "text/x-python",
   "name": "python",
   "nbconvert_exporter": "python",
   "pygments_lexer": "ipython3",
   "version": "3.10.8"
  },
  "orig_nbformat": 4,
  "vscode": {
   "interpreter": {
    "hash": "293803cbaa357c9860d68c02f93ff4620a4e56c52c7c4c94fc6d47d407649920"
   }
  }
 },
 "nbformat": 4,
 "nbformat_minor": 2
}
