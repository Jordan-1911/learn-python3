{
 "cells": [
  {
   "attachments": {},
   "cell_type": "markdown",
   "metadata": {},
   "source": [
    "First, let us check our knowledge so far by completing a few excercises"
   ]
  },
  {
   "cell_type": "code",
   "execution_count": 1,
   "metadata": {},
   "outputs": [
    {
     "name": "stdout",
     "output_type": "stream",
     "text": [
      "Hello, Jordan\n"
     ]
    }
   ],
   "source": [
    "name = input(\"Enter your name: \")\n",
    "print(\"Hello, {}\".format(name))"
   ]
  },
  {
   "attachments": {},
   "cell_type": "markdown",
   "metadata": {},
   "source": [
    "Question 2\n",
    "Conditional Statements\n",
    "Write a function named print_parity that accepts a number\n",
    "Then check if the number is odd or even and print a message"
   ]
  },
  {
   "cell_type": "code",
   "execution_count": 2,
   "metadata": {},
   "outputs": [
    {
     "name": "stdout",
     "output_type": "stream",
     "text": [
      "The number 5 is odd\n"
     ]
    }
   ],
   "source": [
    "def print_parity(number):\n",
    "    if number % 2 == 0:\n",
    "        print(\"The number {} is even\".format(number))\n",
    "    else:\n",
    "        print(\"The number {} is odd\".format(number))\n",
    "\n",
    "print_parity(5)"
   ]
  },
  {
   "attachments": {},
   "cell_type": "markdown",
   "metadata": {},
   "source": [
    "Question 3\n",
    "Functions and loops\n",
    "Write a function named print_multiples(n, max) that prints all multiples of n that are less than or equal to max, each on a separate line"
   ]
  },
  {
   "cell_type": "code",
   "execution_count": 4,
   "metadata": {},
   "outputs": [
    {
     "name": "stdout",
     "output_type": "stream",
     "text": [
      "3\n",
      "6\n",
      "9\n"
     ]
    }
   ],
   "source": [
    "def print_multiples(n, max):\n",
    "    for i in range(1, max + 1):\n",
    "        if (i % n == 0):\n",
    "            print(i)\n",
    "\n",
    "print_multiples(3, 11)\n",
    "            "
   ]
  }
 ],
 "metadata": {
  "kernelspec": {
   "display_name": "tensorflow",
   "language": "python",
   "name": "python3"
  },
  "language_info": {
   "codemirror_mode": {
    "name": "ipython",
    "version": 3
   },
   "file_extension": ".py",
   "mimetype": "text/x-python",
   "name": "python",
   "nbconvert_exporter": "python",
   "pygments_lexer": "ipython3",
   "version": "3.10.8"
  },
  "orig_nbformat": 4,
  "vscode": {
   "interpreter": {
    "hash": "293803cbaa357c9860d68c02f93ff4620a4e56c52c7c4c94fc6d47d407649920"
   }
  }
 },
 "nbformat": 4,
 "nbformat_minor": 2
}
