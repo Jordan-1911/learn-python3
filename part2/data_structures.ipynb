{
 "cells": [
  {
   "attachments": {},
   "cell_type": "markdown",
   "metadata": {},
   "source": [
    "Basic datatypes we have looked at:\n",
    "- integers\n",
    "- floats\n",
    "- strings\n",
    "What about something more complex?\n",
    "Lists allow us to store groups of data\n",
    "- begin with brackets and are comma separated"
   ]
  },
  {
   "cell_type": "code",
   "execution_count": 2,
   "metadata": {},
   "outputs": [
    {
     "name": "stdout",
     "output_type": "stream",
     "text": [
      "['Apple', 'Google', 'Microsoft', 'Amazon', 'Facebook']\n"
     ]
    }
   ],
   "source": [
    "companies = [\"Apple\", \"Google\", \"Microsoft\", \"Amazon\", \"Facebook\"]\n",
    "print(companies)"
   ]
  },
  {
   "attachments": {},
   "cell_type": "markdown",
   "metadata": {},
   "source": [
    "Lists can also store integers"
   ]
  },
  {
   "cell_type": "code",
   "execution_count": 3,
   "metadata": {},
   "outputs": [
    {
     "name": "stdout",
     "output_type": "stream",
     "text": [
      "[1, 2, 3, 4, 5, 6, 7, 8, 9, 10]\n"
     ]
    }
   ],
   "source": [
    "water_level = [1, 2, 3, 4, 5, 6, 7, 8, 9, 10]\n",
    "print(water_level)"
   ]
  },
  {
   "attachments": {},
   "cell_type": "markdown",
   "metadata": {},
   "source": [
    "Accessing list elements\n",
    "- zero indexed \n",
    "- can access element by position"
   ]
  },
  {
   "cell_type": "code",
   "execution_count": 4,
   "metadata": {},
   "outputs": [
    {
     "name": "stdout",
     "output_type": "stream",
     "text": [
      "Amazon\n"
     ]
    }
   ],
   "source": [
    "print(companies[3])"
   ]
  },
  {
   "attachments": {},
   "cell_type": "markdown",
   "metadata": {},
   "source": [
    "If you try to access an element that does not exist, i.e. the list has 5 elements and you try to access the 6th, you will get a list index out of range IndexError"
   ]
  },
  {
   "cell_type": "code",
   "execution_count": 5,
   "metadata": {},
   "outputs": [
    {
     "ename": "IndexError",
     "evalue": "list index out of range",
     "output_type": "error",
     "traceback": [
      "\u001b[0;31m---------------------------------------------------------------------------\u001b[0m",
      "\u001b[0;31mIndexError\u001b[0m                                Traceback (most recent call last)",
      "Cell \u001b[0;32mIn[5], line 1\u001b[0m\n\u001b[0;32m----> 1\u001b[0m \u001b[39mprint\u001b[39m(companies[\u001b[39m5\u001b[39;49m])\n",
      "\u001b[0;31mIndexError\u001b[0m: list index out of range"
     ]
    }
   ],
   "source": [
    "print(companies[5])"
   ]
  },
  {
   "attachments": {},
   "cell_type": "markdown",
   "metadata": {},
   "source": [
    "Accessing multiple item elements\n",
    "- the following will get all list elements with indeces from 0 (inclusive) to 3 (exclusive)"
   ]
  },
  {
   "cell_type": "code",
   "execution_count": 6,
   "metadata": {},
   "outputs": [
    {
     "name": "stdout",
     "output_type": "stream",
     "text": [
      "['Apple', 'Google', 'Microsoft']\n",
      "['Apple', 'Google', 'Microsoft', 'Amazon', 'Facebook']\n"
     ]
    }
   ],
   "source": [
    "print(companies[0:3])\n",
    "print(companies)"
   ]
  },
  {
   "attachments": {},
   "cell_type": "markdown",
   "metadata": {},
   "source": [
    "OBJECTS AND CLASSES\n",
    "- a list is an example of objects and classes\n",
    "- when you create an integer, i and assign a value of 6, you can think of it as creating an object (instance) i of class (type) int.\n",
    "- class can also have methods and functions designed for that class only\n",
    "- For example, python provides an append method for the list class which adds an element to the end of a list\n",
    "- mylist.append('some item') using dot notation\n",
    "- a class can also have fields, variables defined for that class only"
   ]
  },
  {
   "cell_type": "code",
   "execution_count": 14,
   "metadata": {},
   "outputs": [
    {
     "name": "stdout",
     "output_type": "stream",
     "text": [
      "I have 5 items to buy\n",
      "eggs milk bread butter cheese \n",
      "I also have to buy rice\n",
      "My shopping list is now ['eggs', 'milk', 'bread', 'butter', 'cheese', 'rice']\n",
      "I will sort my list now\n",
      "The sorted list is now ['bread', 'butter', 'cheese', 'eggs', 'milk', 'rice']\n",
      "The first item I need to buy is bread\n",
      "I bought the bread\n",
      "My shopping list is now ['butter', 'cheese', 'eggs', 'milk', 'rice']\n"
     ]
    }
   ],
   "source": [
    "shopping_list = [\"eggs\", \"milk\", \"bread\", \"butter\", \"cheese\"]\n",
    "print(\"I have\", len(shopping_list), \"items to buy\")\n",
    "for item in shopping_list:\n",
    "    print(item, end=' ')\n",
    "\n",
    "print('\\nI also have to buy rice')\n",
    "shopping_list.append('rice')\n",
    "print(\"My shopping list is now\", shopping_list)\n",
    "\n",
    "print(\"I will sort my list now\")\n",
    "shopping_list.sort()\n",
    "print('The sorted list is now', shopping_list)\n",
    "print('The first item I need to buy is', shopping_list[0])\n",
    "old_item = shopping_list[0]\n",
    "del shopping_list[0]\n",
    "print('I bought the', old_item)\n",
    "print('My shopping list is now', shopping_list)"
   ]
  },
  {
   "attachments": {},
   "cell_type": "markdown",
   "metadata": {},
   "source": [
    "TUPLE\n",
    "- used to hold together multiple objects\n",
    "- immutable like strings\n",
    "- defined by comma separated values"
   ]
  },
  {
   "cell_type": "code",
   "execution_count": 1,
   "metadata": {},
   "outputs": [
    {
     "name": "stdout",
     "output_type": "stream",
     "text": [
      "Number of animals in the zoo is 3\n",
      "Number of cages in the new zoo is 3\n",
      "All animals in new zoo are ('monkey', 'camel', ('python', 'elephant', 'penguin'))\n",
      "Animals brought from old zoo are ('python', 'elephant', 'penguin')\n",
      "Last animal brought from old zoo is penguin\n",
      "Number of animals in the new zoo is 5\n"
     ]
    }
   ],
   "source": [
    "zoo = ('python', 'elephant', 'penguin')\n",
    "print('Number of animals in the zoo is', len(zoo))\n",
    "\n",
    "new_zoo = 'monkey', 'camel', zoo  # parentheses are optional\n",
    "print('Number of cages in the new zoo is', len(new_zoo))\n",
    "print('All animals in new zoo are', new_zoo)\n",
    "print('Animals brought from old zoo are', new_zoo[2])\n",
    "print('Last animal brought from old zoo is', new_zoo[2][2])\n",
    "print('Number of animals in the new zoo is', len(new_zoo)-1+len(new_zoo[2]))"
   ]
  },
  {
   "attachments": {},
   "cell_type": "markdown",
   "metadata": {},
   "source": [
    "The code above works in the following way:\n",
    "- variable zoo refers to a tuple of items\n",
    "- the old tuple does not lose its identity"
   ]
  },
  {
   "attachments": {},
   "cell_type": "markdown",
   "metadata": {},
   "source": [
    "DICTIONARY\n",
    "- similar to an address book where you can find the address or contact details of a person by knowing only his/her name\n",
    "- we associate keys (name) with value (details)\n",
    "- the key must be unique (can't find correct info in address book where two people have same name - who is who?)\n",
    "- dictionaries are instances/objects of the dict class"
   ]
  },
  {
   "cell_type": "code",
   "execution_count": 5,
   "metadata": {},
   "outputs": [
    {
     "name": "stdout",
     "output_type": "stream",
     "text": [
      "{'john': 'john@gmail.com', 'jane': 'jane@gmail.com', 'joe': 'joe@gmail.com'}\n",
      "John's email is john@gmail.com\n",
      "\n",
      "There are 2 contacts in the address book\n",
      "Contact john at john@gmail.com\n",
      "Contact jane at jane@gmail.com\n",
      "\n",
      "Jim's email is jim@gmail.com\n",
      "\n",
      "Jim's email is jimbo_jim@gmail.com\n"
     ]
    }
   ],
   "source": [
    "address_book = {\n",
    "    \"john\": \"john@gmail.com\",\n",
    "    \"jane\": \"jane@gmail.com\",\n",
    "    \"joe\": \"joe@gmail.com\"\n",
    "}\n",
    "print(address_book)\n",
    "print(\"John's email is\", address_book[\"john\"])\n",
    "\n",
    "# deleting a key value pair\n",
    "del address_book[\"joe\"]\n",
    "print('\\nThere are {} contacts in the address book'.format(len(address_book)))\n",
    "\n",
    "for name, email in address_book.items():\n",
    "    print('Contact {} at {}'.format(name, email))\n",
    "\n",
    "# can add a new key value pair\n",
    "address_book[\"jim\"] = \"jim@gmail.com\"\n",
    "\n",
    "if \"jim\" in address_book:\n",
    "    print(\"\\nJim's email is\", address_book[\"jim\"])\n",
    "\n",
    "# can also update a key value pair\n",
    "address_book[\"jim\"] = \"jimbo_jim@gmail.com\"\n",
    "\n",
    "if \"jim\" in address_book:\n",
    "    print(\"\\nJim's email is\", address_book[\"jim\"])\n",
    "\n"
   ]
  }
 ],
 "metadata": {
  "kernelspec": {
   "display_name": "tensorflow",
   "language": "python",
   "name": "python3"
  },
  "language_info": {
   "codemirror_mode": {
    "name": "ipython",
    "version": 3
   },
   "file_extension": ".py",
   "mimetype": "text/x-python",
   "name": "python",
   "nbconvert_exporter": "python",
   "pygments_lexer": "ipython3",
   "version": "3.10.8"
  },
  "orig_nbformat": 4,
  "vscode": {
   "interpreter": {
    "hash": "293803cbaa357c9860d68c02f93ff4620a4e56c52c7c4c94fc6d47d407649920"
   }
  }
 },
 "nbformat": 4,
 "nbformat_minor": 2
}
