{
 "cells": [
  {
   "attachments": {},
   "cell_type": "markdown",
   "metadata": {},
   "source": [
    "INPUT AND OUTPUT"
   ]
  },
  {
   "cell_type": "code",
   "execution_count": 3,
   "metadata": {},
   "outputs": [
    {
     "name": "stdout",
     "output_type": "stream",
     "text": [
      "Yes racecar is a palindrome\n"
     ]
    }
   ],
   "source": [
    "def reverse(text):\n",
    "    return text[::-1]\n",
    "\n",
    "\n",
    "def is_palindrome(text):\n",
    "    return text == reverse(text)\n",
    "\n",
    "\n",
    "something = input('Enter text: ')\n",
    "if is_palindrome(something):\n",
    "    print('Yes {} is a palindrome'.format(something))\n",
    "else:\n",
    "    print('No, it is not a palindrome')"
   ]
  },
  {
   "attachments": {},
   "cell_type": "markdown",
   "metadata": {},
   "source": [
    "FILES\n",
    "- can access files for reading or writing\n",
    "- whether you can read or write (or both) depends on how you specified opening the file"
   ]
  },
  {
   "cell_type": "code",
   "execution_count": 5,
   "metadata": {},
   "outputs": [
    {
     "name": "stdout",
     "output_type": "stream",
     "text": [
      "Programming is fun\n",
      "When the work is done,\n",
      "if you wanna make your work also fun:\n",
      "    use Python!"
     ]
    }
   ],
   "source": [
    "poem = '''\\\n",
    "Programming is fun\n",
    "When the work is done,\n",
    "if you wanna make your work also fun:\n",
    "    use Python!'''\n",
    "\n",
    "# for writing 'w'\n",
    "file = open('poem.txt', 'w')\n",
    "\n",
    "# write text to file\n",
    "file.write(poem)\n",
    "\n",
    "# close the file\n",
    "file.close()\n",
    "\n",
    "# If no mode is specified,\n",
    "# 'r'ead mode is assumed by default\n",
    "file = open('poem.txt')\n",
    "while True:\n",
    "    line = file.readline()\n",
    "    # Zero length indicates EOF\n",
    "    if len(line) == 0:\n",
    "        break\n",
    "    print(line, end='')\n",
    "\n",
    "# close the file\n",
    "file.close()  "
   ]
  },
  {
   "attachments": {},
   "cell_type": "markdown",
   "metadata": {},
   "source": [
    "PICKLE\n",
    "- Python provides a built in module to store any plain Python object in a file and get it back later\n",
    "- this is also known as storing the object persistently"
   ]
  },
  {
   "cell_type": "code",
   "execution_count": 9,
   "metadata": {},
   "outputs": [
    {
     "name": "stdout",
     "output_type": "stream",
     "text": [
      "['apple', 'mango', 'carrot']\n"
     ]
    }
   ],
   "source": [
    "import pickle\n",
    "\n",
    "# name of the file where we will store the object\n",
    "shop_list_file = 'shoplist.data'\n",
    "\n",
    "# list of things to buy\n",
    "shop_list = ['apple', 'mango', 'carrot']\n",
    "\n",
    "# write to the file\n",
    "file = open(shop_list_file, 'wb')\n",
    "\n",
    "# dump object to file\n",
    "pickle.dump(shop_list, file)\n",
    "\n",
    "# remember to close\n",
    "file.close()\n",
    "\n",
    "# destroy the shop_list variable\n",
    "del shop_list\n",
    "\n",
    "# print(shop_list)  # Error: name 'shop_list' is not defined\n",
    "\n",
    "# read back from storage\n",
    "file = open(shop_list_file, 'rb')\n",
    "\n",
    "# load the object from the file\n",
    "stored_list = pickle.load(file)\n",
    "print(stored_list)\n",
    "file.close()"
   ]
  },
  {
   "attachments": {},
   "cell_type": "markdown",
   "metadata": {},
   "source": [
    "UNICODE\n",
    "- Data is sent over the internet in bytes\n",
    "- Computers can easily understand bytes\n",
    "- The rules for translating Unicode (what Python uses to store a string) is called encoding\n",
    "- popular encoding is UTF-8\n",
    "- the following allows us to read and write in UTF-8 by using a simple keyword arg in our open function"
   ]
  },
  {
   "cell_type": "code",
   "execution_count": 10,
   "metadata": {},
   "outputs": [
    {
     "name": "stdout",
     "output_type": "stream",
     "text": [
      "Imagine some language other than english here\n"
     ]
    }
   ],
   "source": [
    "import io\n",
    "\n",
    "file = io.open('abc.txt', 'wt', encoding='utf-8')\n",
    "file.write(u\"Imagine some language other than english here\")\n",
    "file.close()\n",
    "\n",
    "text = io.open('abc.txt', encoding='utf-8').read()\n",
    "print(text)"
   ]
  },
  {
   "attachments": {},
   "cell_type": "markdown",
   "metadata": {},
   "source": [
    "HOW THE ABOVE WORKS\n",
    "- io.open opens it, then the encoding arg encodes the message, and then again in the second open statement when decoding the message.\n",
    "- the u before the string makes sure that Python is told that our program uses UTF-8 and the comment helps clarify"
   ]
  }
 ],
 "metadata": {
  "kernelspec": {
   "display_name": "base",
   "language": "python",
   "name": "python3"
  },
  "language_info": {
   "codemirror_mode": {
    "name": "ipython",
    "version": 3
   },
   "file_extension": ".py",
   "mimetype": "text/x-python",
   "name": "python",
   "nbconvert_exporter": "python",
   "pygments_lexer": "ipython3",
   "version": "3.9.13"
  },
  "orig_nbformat": 4,
  "vscode": {
   "interpreter": {
    "hash": "a68f03d5b51d71e9618ac169d65e588645e27f9fde4b6854514898c829210307"
   }
  }
 },
 "nbformat": 4,
 "nbformat_minor": 2
}
