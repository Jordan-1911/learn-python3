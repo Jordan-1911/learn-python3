{
 "cells": [
  {
   "attachments": {},
   "cell_type": "markdown",
   "metadata": {},
   "source": [
    "STRINGS Revisited\n"
   ]
  },
  {
   "cell_type": "code",
   "execution_count": 2,
   "metadata": {},
   "outputs": [
    {
     "ename": "SyntaxError",
     "evalue": "invalid syntax (<ipython-input-2-cae10c66befe>, line 1)",
     "output_type": "error",
     "traceback": [
      "\u001b[1;36m  File \u001b[1;32m\"<ipython-input-2-cae10c66befe>\"\u001b[1;36m, line \u001b[1;32m1\u001b[0m\n\u001b[1;33m    print('doesn't')  # This will cause an error\u001b[0m\n\u001b[1;37m                 ^\u001b[0m\n\u001b[1;31mSyntaxError\u001b[0m\u001b[1;31m:\u001b[0m invalid syntax\n"
     ]
    }
   ],
   "source": [
    "# print('doesn't')  # This will cause an error"
   ]
  },
  {
   "cell_type": "code",
   "execution_count": 3,
   "metadata": {},
   "outputs": [
    {
     "name": "stdout",
     "output_type": "stream",
     "text": [
      "doesn't\n"
     ]
    }
   ],
   "source": [
    "# Instead, we can use \\ to escape the single quote\n",
    "print('doesn\\'t')  # This will print doesn't"
   ]
  },
  {
   "cell_type": "code",
   "execution_count": 5,
   "metadata": {},
   "outputs": [
    {
     "name": "stdout",
     "output_type": "stream",
     "text": [
      "First line.\n",
      "Second line.\n"
     ]
    }
   ],
   "source": [
    "s = 'First line.\\nSecond line.'  # \\n means newline\n",
    "print(s)"
   ]
  },
  {
   "cell_type": "code",
   "execution_count": 6,
   "metadata": {},
   "outputs": [
    {
     "name": "stdout",
     "output_type": "stream",
     "text": [
      "C:\\some\n",
      "ame\n",
      "C:\\some\\name\n"
     ]
    }
   ],
   "source": [
    "print('C:\\some\\name')  # here \\n means newline!\n",
    "\n",
    "# we can use a raw string by adding an r before the first quote\n",
    "print(r'C:\\some\\name')  # note the r before the quote"
   ]
  },
  {
   "cell_type": "code",
   "execution_count": null,
   "metadata": {},
   "outputs": [],
   "source": [
    "# String literals can span multiple lines. One way is using triple quotes \"\"\"...\"\"\" or '''...'''. End of lines are automatically included in the string, but it’s possible to prevent this by adding a \\ at the end of the line. The following example:"
   ]
  },
  {
   "cell_type": "code",
   "execution_count": 7,
   "metadata": {},
   "outputs": [
    {
     "name": "stdout",
     "output_type": "stream",
     "text": [
      "\\ \n",
      "Usage: thingy [OPTIONS]\n",
      "    -h                       Display this usage message\n",
      "    -H hostname              Hostname to connect to      \n",
      "      \n"
     ]
    }
   ],
   "source": [
    "print(\"\"\"\\ \n",
    "Usage: thingy [OPTIONS]\n",
    "    -h                       Display this usage message\n",
    "    -H hostname              Hostname to connect to      \n",
    "      \"\"\")"
   ]
  },
  {
   "cell_type": "code",
   "execution_count": 8,
   "metadata": {},
   "outputs": [
    {
     "name": "stdout",
     "output_type": "stream",
     "text": [
      "unununium\n"
     ]
    }
   ],
   "source": [
    "# STRING CONCATENATION\n",
    "print(3 * 'un' + 'ium')\n",
    "\n",
    "# prints 3 times 'un' and then 'ium'"
   ]
  },
  {
   "cell_type": "code",
   "execution_count": 10,
   "metadata": {},
   "outputs": [
    {
     "name": "stdout",
     "output_type": "stream",
     "text": [
      "Python\n",
      "\n"
     ]
    },
    {
     "data": {
      "text/plain": [
       "'Python'"
      ]
     },
     "execution_count": 10,
     "metadata": {},
     "output_type": "execute_result"
    }
   ],
   "source": [
    "# string literals next to each other are automatically concatenated\n",
    "print('Py' 'thon')\n",
    "print()\n",
    "'Py' 'thon'"
   ]
  },
  {
   "cell_type": "code",
   "execution_count": 12,
   "metadata": {},
   "outputs": [
    {
     "name": "stdout",
     "output_type": "stream",
     "text": [
      "Put several strings within parentheses to have them joined together.\n"
     ]
    }
   ],
   "source": [
    "# Can put strings on multiple lines\n",
    "text = ('Put several strings within parentheses '\n",
    "        'to have them joined together.')\n",
    "print(text)"
   ]
  },
  {
   "cell_type": "code",
   "execution_count": 14,
   "metadata": {},
   "outputs": [
    {
     "name": "stdout",
     "output_type": "stream",
     "text": [
      "Python\n"
     ]
    }
   ],
   "source": [
    "# The above only works for two literals, not wit variables or expressions\n",
    "\n",
    "# prefix = 'Py'\n",
    "# prefix 'thon'  # can't concatenate a variable and a string literal\n",
    "\n",
    "# instead, use the + operator\n",
    "prefix = 'Py'\n",
    "prefix = prefix + 'thon'\n",
    "print(prefix)\n"
   ]
  },
  {
   "attachments": {},
   "cell_type": "markdown",
   "metadata": {},
   "source": [
    "ACCESSING CHARS FROM STRING []"
   ]
  },
  {
   "cell_type": "code",
   "execution_count": 16,
   "metadata": {},
   "outputs": [
    {
     "name": "stdout",
     "output_type": "stream",
     "text": [
      "P\n",
      "h\n",
      "n\n",
      "o\n",
      "P\n"
     ]
    }
   ],
   "source": [
    "word = 'Python'\n",
    "print(word[0])\n",
    "print(word[3])\n",
    "\n",
    "# indices may also be negative numbers, to start counting from the right\n",
    "print(word[-1])  # last character\n",
    "print(word[-2])  # second-last character\n",
    "print(word[-6])  # first character"
   ]
  },
  {
   "cell_type": "code",
   "execution_count": null,
   "metadata": {},
   "outputs": [],
   "source": [
    "word[0:2]  # characters from position 0 (included) to 2 (excluded)\n",
    "\n",
    "word[2:5]  # characters from position 2 (included) to 5 (excluded)"
   ]
  },
  {
   "attachments": {},
   "cell_type": "markdown",
   "metadata": {},
   "source": [
    "Since indices have useful defaults, an omitted first index defaults to zero, an omitted second index to the size of the string being sliced"
   ]
  },
  {
   "cell_type": "code",
   "execution_count": 17,
   "metadata": {},
   "outputs": [
    {
     "data": {
      "text/plain": [
       "'on'"
      ]
     },
     "execution_count": 17,
     "metadata": {},
     "output_type": "execute_result"
    }
   ],
   "source": [
    "word[:2]  # character from the beginning to position 2 (excluded)\n",
    "# Py\n",
    "word[4:]  # characters from position 4 (included) to the end\n",
    "# on\n",
    "word[-2:] # characters from the second-last (included) to the end\n",
    "# on"
   ]
  },
  {
   "cell_type": "code",
   "execution_count": 19,
   "metadata": {},
   "outputs": [
    {
     "data": {
      "text/plain": [
       "''"
      ]
     },
     "execution_count": 19,
     "metadata": {},
     "output_type": "execute_result"
    }
   ],
   "source": [
    "# Note how the start is always included, and the end always excluded. This makes sure that s[:i] + s[i:] is always equal to s:\n",
    "\n",
    "# interestingly, range slice indexes do not throw index out of range errors\n",
    "\n",
    "# word[42]  # the word only has 6 characters, this will throw an error\n",
    "\n",
    "# with slices the behavior is not the same\n",
    "\n",
    "word[4:42]\n",
    "word[42:]"
   ]
  },
  {
   "attachments": {},
   "cell_type": "markdown",
   "metadata": {},
   "source": [
    "PYTHON STRINGS ARE IMMUTABLE\n",
    "- Therefore assigining to an indexed position results in an error\n",
    "word[0] = 'J'\n",
    "word[2] = 'py'  # both will throw type errors"
   ]
  },
  {
   "cell_type": "code",
   "execution_count": 20,
   "metadata": {},
   "outputs": [
    {
     "name": "stdout",
     "output_type": "stream",
     "text": [
      "Jython\n",
      "Pypy\n"
     ]
    }
   ],
   "source": [
    "# if you need a different string, you should create a new one\n",
    "print('J' + word[1:])\n",
    "print(word[:2] + 'py')"
   ]
  }
 ],
 "metadata": {
  "kernelspec": {
   "display_name": "tf",
   "language": "python",
   "name": "python3"
  },
  "language_info": {
   "codemirror_mode": {
    "name": "ipython",
    "version": 3
   },
   "file_extension": ".py",
   "mimetype": "text/x-python",
   "name": "python",
   "nbconvert_exporter": "python",
   "pygments_lexer": "ipython3",
   "version": "3.6.13"
  },
  "orig_nbformat": 4,
  "vscode": {
   "interpreter": {
    "hash": "502ecf377388362b2eff0d7c6800a2834400bb0b9041e74c9980f1081551cde2"
   }
  }
 },
 "nbformat": 4,
 "nbformat_minor": 2
}
